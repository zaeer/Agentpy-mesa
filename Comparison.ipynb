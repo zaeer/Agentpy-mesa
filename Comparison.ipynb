{
 "cells": [
  {
   "cell_type": "markdown",
   "id": "77cc38c3",
   "metadata": {},
   "source": [
    "## Difference between mesa and Agentpy"
   ]
  },
  {
   "cell_type": "markdown",
   "id": "e848f135",
   "metadata": {},
   "source": [
    "**CONTENT**\n",
    "\n",
    "- [Introduction](#intro)\n",
    "- [Containers](#probability)\n",
    "- [Topologies](#ab_test)\n",
    "- [Data recording](#ab_test1)\n",
    "- [Parameter sampling](#ab_test2)\n",
    "- [Multi-run experiments](#ab_test3)\n",
    "- [Output data](#ab_test4)\n",
    "- [Visualization](#ab_test5)\n",
    "- [Analysis](#ab_test6)\n"
   ]
  },
  {
   "cell_type": "markdown",
   "id": "5cee652a",
   "metadata": {},
   "source": [
    "<a id='intro'></a>\n",
    "## **Introduction**\n"
   ]
  },
  {
   "cell_type": "markdown",
   "id": "c385e7a1",
   "metadata": {},
   "source": [
    "### Mesa\n",
    "is an Apache2 licensed agent-based modeling (or ABM) framework in Python.\n",
    "It allows users to quickly create agent-based models using built-in core components (such as spatial grids and agent schedulers) or customized implementations; visualize them using a browser-based interface; and analyze their results using Python’s data analysis tools. Its goal is to be the Python 3-based counterpart to NetLogo, Repast, or MASON\n",
    "### Agentpy\n",
    "Agentpy integrates the multiple tasks of agent-based modeling - model design, interactive simulations, numerical experiments, and data analysis - within a single environment and is optimized for interactive computing with IPython and Jupyter.\n",
    "\n",
    "Agentpy is designed for scientific use with experiments over multiple runs. It provides tools for parameter sampling (similar to NetLogo’s BehaviorSpace), Monte Carlo experiments, stochastic processes, parallel computing, and sensitivity analysis.\n",
    "\n",
    "Agentpy is written in Python, one of the world’s most popular programming languages that offers a vast number of tools and libraries for scientific use. It is further designed for compatibility with established packages like numpy, scipy, networkx, pandas, ema_workbench, seaborn, and SALib."
   ]
  },
  {
   "cell_type": "markdown",
   "id": "9d895c3e",
   "metadata": {},
   "source": [
    "<a id='probability'></a>\n",
    "## Containers Mesa and Agentpy\n"
   ]
  },
  {
   "cell_type": "markdown",
   "id": "04139ca6",
   "metadata": {},
   "source": [
    "**Mesa**\n",
    "Scheduler classes for\n",
    "different activation orders\n",
    "\n",
    "**Agentpy**\n",
    "Sequence classes\n",
    "like AgentList and AgentDList\n"
   ]
  },
  {
   "cell_type": "markdown",
   "id": "9bca96be",
   "metadata": {},
   "source": [
    "<a id='ab_test'></a>\n",
    "## Topologies Mesa and Agentpy\n"
   ]
  },
  {
   "cell_type": "markdown",
   "id": "b0f28b35",
   "metadata": {},
   "source": [
    "**Mesa**\n",
    "Spatial grid, continuous space,\n",
    "network\n",
    "\n",
    "**Agentpy**\n",
    "Spatial grid, continuous space,\n",
    "network"
   ]
  },
  {
   "cell_type": "markdown",
   "id": "89939100",
   "metadata": {},
   "source": [
    "<a id='ab_test1'></a>\n",
    "## Data recording\n"
   ]
  },
  {
   "cell_type": "markdown",
   "id": "1ad90e99",
   "metadata": {},
   "source": [
    "**Mesa**\n",
    "DataCollector class that can\n",
    "collect variables of agents\n",
    "and model\n",
    "\n",
    "**Agentpy**\n",
    "Recording methods for variables\n",
    "of agents, environments, and\n",
    "model; as well as reporters"
   ]
  },
  {
   "cell_type": "markdown",
   "id": "bcc0dfe0",
   "metadata": {},
   "source": [
    "<a id='ab_test2'></a>\n",
    "## Parameter sampling\n"
   ]
  },
  {
   "cell_type": "markdown",
   "id": "bea32054",
   "metadata": {},
   "source": [
    "**Mesa**\n",
    "non \n",
    "\n",
    "**Agentpy**\n",
    "Classes for sample generation\n",
    "and different types of\n",
    "parameter ranges"
   ]
  },
  {
   "cell_type": "markdown",
   "id": "77e79281",
   "metadata": {},
   "source": [
    "<a id='ab_test3'></a>\n",
    "## Multi-run experiments Mesa and Agentpy\n"
   ]
  },
  {
   "cell_type": "markdown",
   "id": "25d6e15a",
   "metadata": {},
   "source": [
    "**Mesa**\n",
    "BatchRunner class that supports\n",
    "multiple iterations and parameter\n",
    "ranges\n",
    "\n",
    "**Agentpy**\n",
    "Experiment class that supports\n",
    "multiple iterations, parameter\n",
    "samples, randomization,\n",
    "and parallel processing"
   ]
  },
  {
   "cell_type": "markdown",
   "id": "f3ec5d62",
   "metadata": {},
   "source": [
    "<a id='ab_test4'></a>\n",
    "## Output data Mesa and Agentpy\n"
   ]
  },
  {
   "cell_type": "markdown",
   "id": "97d9ddbc",
   "metadata": {},
   "source": [
    "**Mesa**\n",
    "Methods to generate dataframes\n",
    "\n",
    "**Agentpy**\n",
    "DataDict class to store, save,\n",
    "load, and re-arrange output data"
   ]
  },
  {
   "cell_type": "markdown",
   "id": "f1f04077",
   "metadata": {},
   "source": [
    "<a id='ab_test5'></a>\n",
    "## Visualization Mesa and Agentpy\n"
   ]
  },
  {
   "cell_type": "markdown",
   "id": "764fd80f",
   "metadata": {},
   "source": [
    "**Mesa**\n",
    "Plots and interactive visualization\n",
    "in a separate web-server\n",
    "\n",
    "**Agentpy**\n",
    "Gridplots, animations,\n",
    "and interactive visualization\n",
    "within Jupyter Notebooks"
   ]
  },
  {
   "cell_type": "markdown",
   "id": "f72e9846",
   "metadata": {},
   "source": [
    "<a id='ab_test6'></a>\n",
    "## Analysis Mesa and Agentpy\n"
   ]
  },
  {
   "cell_type": "markdown",
   "id": "39a066f5",
   "metadata": {},
   "source": [
    "**Mesa**\n",
    "non\n",
    "\n",
    "**Agentpy**\t\n",
    "Tools for data arrangement and\n",
    "sensitivity analysis"
   ]
  },
  {
   "cell_type": "code",
   "execution_count": null,
   "id": "c2f51412",
   "metadata": {},
   "outputs": [],
   "source": []
  }
 ],
 "metadata": {
  "kernelspec": {
   "display_name": "Python 3 (ipykernel)",
   "language": "python",
   "name": "python3"
  },
  "language_info": {
   "codemirror_mode": {
    "name": "ipython",
    "version": 3
   },
   "file_extension": ".py",
   "mimetype": "text/x-python",
   "name": "python",
   "nbconvert_exporter": "python",
   "pygments_lexer": "ipython3",
   "version": "3.9.7"
  }
 },
 "nbformat": 4,
 "nbformat_minor": 5
}
