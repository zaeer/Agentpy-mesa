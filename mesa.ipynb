{
 "cells": [
  {
   "cell_type": "markdown",
   "id": "061e8a63",
   "metadata": {},
   "source": [
    "## Agent based model\n",
    "Table of Contents\n",
    "- [Import libraries python](#intro)\n",
    "- [Define model](#probability)\n",
    "- [Visualize model](#ab_test)\n"
   ]
  },
  {
   "cell_type": "markdown",
   "id": "8c70773a",
   "metadata": {},
   "source": [
    "## Import libraries python\n",
    "<a id='intro'></a>"
   ]
  },
  {
   "cell_type": "markdown",
   "id": "f78ef8b7",
   "metadata": {},
   "source": [
    "the first step importing libraries and creat a model and agent,the model contains more function like init and step Each has its function"
   ]
  },
  {
   "cell_type": "code",
   "execution_count": 1,
   "id": "555215fa",
   "metadata": {},
   "outputs": [],
   "source": [
    "#import mesa library \n",
    "import mesa\n",
    "import numpy as np\n",
    "import matplotlib as plt\n",
    "\n",
    "\n",
    "class SchellingAgent(mesa.Agent):\n",
    "    \"\"\"An agent with fixed initial wealth.\"\"\"\n",
    "\n",
    "    def __init__(self, unique_id, model):\n",
    "        super().__init__(unique_id, model)\n",
    "        self.wealth = 1\n",
    "\n",
    "\n",
    "class SchellingModel(mesa.Model):\n",
    "    \"\"\"A model with some number of agents.\"\"\"\n",
    "\n",
    "    def __init__(self, N):\n",
    "        self.num_agents = N\n",
    "        # Create agents\n",
    "        for i in range(self.num_agents):\n",
    "            a = MoneyAgent(i, self)"
   ]
  },
  {
   "cell_type": "markdown",
   "id": "2baaa130",
   "metadata": {},
   "source": [
    "here we can show create the model and eagnt "
   ]
  },
  {
   "cell_type": "code",
   "execution_count": 2,
   "id": "ccb15b36",
   "metadata": {},
   "outputs": [],
   "source": [
    "import mesa\n",
    "\n",
    "#\"\"\"Represents a grid of Schelling agents.\"\"\"\n",
    "class SchellingAgent(mesa.Agent):\n",
    "    \"\"\"An agent with fixed initial wealth.\"\"\"\n",
    "\n",
    "    def __init__(self, unique_id, model):\n",
    "        super().__init__(unique_id, model)\n",
    "        self.wealth = 1\n",
    "\n",
    "    def step(self):\n",
    "        # The agent's step will go here.\n",
    "        # For demonstration purposes we will print the agent's unique_id\n",
    "        print(\"Hi, I am agent \" + str(self.unique_id) + \".\")\n",
    "\n",
    "#define SchellingModel \n",
    "class SchellingModel(mesa.Model):\n",
    "    \"\"\"A model with some number of agents.\"\"\"\n",
    "#define method for create agents\n",
    "    def __init__(self, N):\n",
    "        self.num_agents = N\n",
    "        self.schedule = mesa.time.RandomActivation(self)\n",
    "# Create agents\n",
    "        for i in range(self.num_agents):\n",
    "            a = SchellingAgent(i, self)\n",
    "            self.schedule.add(a)\n",
    "\n",
    "    def step(self):\n",
    "        \"\"\"Advance the model by one step.\"\"\"\n",
    "        self.schedule.step()"
   ]
  },
  {
   "cell_type": "code",
   "execution_count": 3,
   "id": "c39140ef",
   "metadata": {},
   "outputs": [
    {
     "name": "stdout",
     "output_type": "stream",
     "text": [
      "Hi, I am agent 4.\n",
      "Hi, I am agent 0.\n",
      "Hi, I am agent 8.\n",
      "Hi, I am agent 5.\n",
      "Hi, I am agent 9.\n",
      "Hi, I am agent 1.\n",
      "Hi, I am agent 6.\n",
      "Hi, I am agent 3.\n",
      "Hi, I am agent 2.\n",
      "Hi, I am agent 7.\n"
     ]
    }
   ],
   "source": [
    "#check the model\n",
    "empty_model = SchellingModel(10)\n",
    "empty_model.step()"
   ]
  },
  {
   "cell_type": "markdown",
   "id": "83598f85",
   "metadata": {},
   "source": [
    "<a id='probability'></a>\n",
    "## Define model\n"
   ]
  },
  {
   "cell_type": "markdown",
   "id": "d8bff8fe",
   "metadata": {},
   "source": []
  },
  {
   "cell_type": "code",
   "execution_count": 4,
   "id": "f8f09918",
   "metadata": {},
   "outputs": [],
   "source": [
    "class SchellingAgent(mesa.Agent):\n",
    "    \"\"\"An agent with fixed initial wealth.\"\"\"\n",
    "#\n",
    "    def __init__(self, unique_id, model):\n",
    "        super().__init__(unique_id, model)\n",
    "        self.wealth = 1\n",
    "\n",
    "    def step(self):\n",
    "        if self.wealth == 0:\n",
    "            return\n",
    "        other_agent = self.random.choice(self.model.schedule.agents)\n",
    "        other_agent.wealth += 1\n",
    "        self.wealth -= 1"
   ]
  },
  {
   "cell_type": "code",
   "execution_count": 5,
   "id": "3ea9bfd8",
   "metadata": {},
   "outputs": [],
   "source": [
    "#you can change the numper and show plt\n",
    "model = SchellingModel(1)\n",
    "for i in range(28):\n",
    "    model.step()"
   ]
  },
  {
   "cell_type": "code",
   "execution_count": 6,
   "id": "fe4c95d8",
   "metadata": {},
   "outputs": [
    {
     "data": {
      "text/plain": [
       "(array([0., 0., 0., 0., 0., 1., 0., 0., 0., 0.]),\n",
       " array([0.5, 0.6, 0.7, 0.8, 0.9, 1. , 1.1, 1.2, 1.3, 1.4, 1.5]),\n",
       " <BarContainer object of 10 artists>)"
      ]
     },
     "execution_count": 6,
     "metadata": {},
     "output_type": "execute_result"
    },
    {
     "data": {
      "image/png": "[encoded data removed]",
      "text/plain": [
       "<Figure size 432x288 with 1 Axes>"
      ]
     },
     "metadata": {
      "needs_background": "light"
     },
     "output_type": "display_data"
    }
   ],
   "source": [
    "# For a jupyter notebook add the following line:\n",
    "%matplotlib inline\n",
    "\n",
    "# The below is needed for both notebooks and scripts\n",
    "import matplotlib.pyplot as plt\n",
    "\n",
    "agent_wealth = [a.wealth for a in model.schedule.agents]\n",
    "plt.hist(agent_wealth)"
   ]
  },
  {
   "cell_type": "markdown",
   "id": "f48a35f4",
   "metadata": {},
   "source": [
    "change the number and show the result changes "
   ]
  },
  {
   "cell_type": "markdown",
   "id": "6a3ae3a3",
   "metadata": {},
   "source": [
    "define the SchellingAgent contain functions init ,move "
   ]
  },
  {
   "cell_type": "code",
   "execution_count": 7,
   "id": "0ac15be0",
   "metadata": {},
   "outputs": [],
   "source": [
    "class SchellingAgent(mesa.Agent):\n",
    "    \"\"\"An agent with fixed initial wealth.\"\"\"\n",
    "\n",
    "    def __init__(self, unique_id, model):\n",
    "        super().__init__(unique_id, model)\n",
    "        self.wealth = 1\n",
    "\n",
    "    def move(self):\n",
    "        possible_steps = self.model.grid.get_neighborhood(\n",
    "            self.pos, moore=True, include_center=False\n",
    "        )\n",
    "        new_position = self.random.choice(possible_steps)\n",
    "        self.model.grid.move_agent(self, new_position)\n",
    "\n",
    "    def give_Schelling(self):\n",
    "        cellmates = self.model.grid.get_cell_list_contents([self.pos])\n",
    "        if len(cellmates) > 1:\n",
    "            other_agent = self.random.choice(cellmates)\n",
    "            other_agent.wealth += 1\n",
    "            self.wealth -= 1\n",
    "\n",
    "    def step(self):\n",
    "        self.move()\n",
    "        if self.wealth > 0:\n",
    "            self.give_Schelling()\n",
    "\n",
    "\n",
    "class SchellingModel(mesa.Model):\n",
    "    \"\"\"A model with some number of agents.\"\"\"\n",
    "\n",
    "    def __init__(self, N, width, height):\n",
    "        self.num_agents = N\n",
    "        self.grid = mesa.space.MultiGrid(width, height, True)\n",
    "        self.schedule = mesa.time.RandomActivation(self)\n",
    "        # Create agents\n",
    "        for i in range(self.num_agents):\n",
    "            a = SchellingAgent(i, self)\n",
    "            self.schedule.add(a)\n",
    "            # Add the agent to a random grid cell\n",
    "            x = self.random.randrange(self.grid.width)\n",
    "            y = self.random.randrange(self.grid.height)\n",
    "            self.grid.place_agent(a, (x, y))\n",
    "\n",
    "    def step(self):\n",
    "        self.schedule.step()"
   ]
  },
  {
   "cell_type": "code",
   "execution_count": 8,
   "id": "1f2e997a",
   "metadata": {},
   "outputs": [
    {
     "data": {
      "text/plain": [
       "(array([3.283e+03, 1.881e+03, 1.006e+03, 4.570e+02, 2.100e+02, 1.110e+02,\n",
       "        3.300e+01, 1.200e+01, 6.000e+00, 0.000e+00, 1.000e+00]),\n",
       " array([ 0,  1,  2,  3,  4,  5,  6,  7,  8,  9, 10, 11]),\n",
       " <BarContainer object of 11 artists>)"
      ]
     },
     "execution_count": 8,
     "metadata": {},
     "output_type": "execute_result"
    },
    {
     "data": {
      "image/png": "[encoded data removed]",
      "text/plain": [
       "<Figure size 432x288 with 1 Axes>"
      ]
     },
     "metadata": {
      "needs_background": "light"
     },
     "output_type": "display_data"
    }
   ],
   "source": [
    "import matplotlib.pyplot as plt\n",
    "all_wealth = []\n",
    "# This runs the model 100 times, each model executing  steps.\n",
    "for j in range(100):\n",
    "    # Run the model\n",
    "    model = SchellingModel(70, 10, 10)\n",
    "    for i in range(17):\n",
    "        model.step()\n",
    "\n",
    "    # Store the results\n",
    "    for agent in model.schedule.agents:\n",
    "        all_wealth.append(agent.wealth)\n",
    "\n",
    "plt.hist(all_wealth, bins=range(max(all_wealth) + 1))"
   ]
  },
  {
   "cell_type": "code",
   "execution_count": 9,
   "id": "274459cd",
   "metadata": {},
   "outputs": [],
   "source": [
    "class SchellingModel(mesa.Model):\n",
    "    \"\"\"A model with some number of agents.\"\"\"\n",
    "\n",
    "    def __init__(self, N, width, height):\n",
    "        self.num_agents = N\n",
    "        self.grid = mesa.space.MultiGrid(width, height, True)\n",
    "        self.schedule = RandomActivation(self)\n",
    "\n",
    "        # Create agents\n",
    "        for i in range(self.num_agents):\n",
    "            a = SchellingAgent(i, self)\n",
    "            self.schedule.add(a)\n",
    "\n",
    "            # Add the agent to a random grid cell\n",
    "            x = self.random.randrange(self.grid.width)\n",
    "            y = self.random.randrange(self.grid.height)\n",
    "            self.grid.place_agent(a, (x, y))"
   ]
  },
  {
   "cell_type": "code",
   "execution_count": 10,
   "id": "0dcc08e2",
   "metadata": {},
   "outputs": [],
   "source": [
    "class SchellingAgent(mesa.Agent):\n",
    "   #...\n",
    "    def move(self):\n",
    "        possible_steps = self.model.grid.get_neighborhood(\n",
    "            self.pos,\n",
    "            moore=True,\n",
    "            include_center=False)\n",
    "        new_position = self.random.choice(possible_steps)\n",
    "        self.model.grid.move_agent(self, new_position)"
   ]
  },
  {
   "cell_type": "code",
   "execution_count": 11,
   "id": "ff2403cd",
   "metadata": {},
   "outputs": [],
   "source": [
    "class SchellingAgent(mesa.Agent):\n",
    "    #...\n",
    "    def give_Schelling(self):\n",
    "        cellmates = self.model.grid.get_cell_list_contents([self.pos])\n",
    "        if len(cellmates) > 1:\n",
    "            other = self.random.choice(cellmates)\n",
    "            other.wealth += 1\n",
    "            self.wealth -= 1"
   ]
  },
  {
   "cell_type": "code",
   "execution_count": 12,
   "id": "f3e55684",
   "metadata": {},
   "outputs": [],
   "source": [
    "class SchellingAgent(mesa.Agent):\n",
    "    # ...\n",
    "    def step(self):\n",
    "        self.move()\n",
    "        if self.wealth > 0:\n",
    "            self.give_money()"
   ]
  },
  {
   "cell_type": "code",
   "execution_count": 13,
   "id": "6020dc84",
   "metadata": {},
   "outputs": [],
   "source": [
    "class SchellingAgent(mesa.Agent):\n",
    "    \"\"\"An agent with fixed initial wealth.\"\"\"\n",
    "\n",
    "    def __init__(self, unique_id, model):\n",
    "        super().__init__(unique_id, model)\n",
    "        self.wealth = 2\n",
    "\n",
    "    def move(self):\n",
    "        possible_steps = self.model.grid.get_neighborhood(\n",
    "            self.pos, moore=True, include_center=False\n",
    "        )\n",
    "        new_position = self.random.choice(possible_steps)\n",
    "        self.model.grid.move_agent(self, new_position)\n",
    "\n",
    "    def give_money(self):\n",
    "        cellmates = self.model.grid.get_cell_list_contents([self.pos])\n",
    "        if len(cellmates) > 1:\n",
    "            other_agent = self.random.choice(cellmates)\n",
    "            other_agent.wealth += 2\n",
    "            self.wealth -= 2\n",
    "\n",
    "    def step(self):\n",
    "        self.move()\n",
    "        if self.wealth > 1:\n",
    "            self.give_money()\n",
    "\n",
    "\n",
    "class SchellingModel(mesa.Model):\n",
    "    \"\"\"A model with some number of agents.\"\"\"\n",
    "\n",
    "    def __init__(self, N, width, height):\n",
    "        self.num_agents = N\n",
    "        self.grid = mesa.space.MultiGrid(width, height, True)\n",
    "        self.schedule = mesa.time.RandomActivation(self)\n",
    "        # Create agents\n",
    "        for i in range(self.num_agents):\n",
    "            a = SchellingAgent(i, self)\n",
    "            self.schedule.add(a)\n",
    "            # Add the agent to a random grid cell\n",
    "            x = self.random.randrange(self.grid.width)\n",
    "            y = self.random.randrange(self.grid.height)\n",
    "            self.grid.place_agent(a, (x, y))\n",
    "\n",
    "    def step(self):\n",
    "        self.schedule.step()"
   ]
  },
  {
   "cell_type": "code",
   "execution_count": 14,
   "id": "1bcee17a",
   "metadata": {},
   "outputs": [],
   "source": [
    "#Check the model\n",
    "model = SchellingModel(70, 10, 10)\n",
    "for i in range(20):\n",
    "    model.step()"
   ]
  },
  {
   "cell_type": "markdown",
   "id": "34db05ff",
   "metadata": {},
   "source": [
    "<a id='ab_test'></a>\n",
    "## visulize model\n"
   ]
  },
  {
   "cell_type": "code",
   "execution_count": 15,
   "id": "9d494b9c",
   "metadata": {},
   "outputs": [
    {
     "data": {
      "text/plain": [
       "<matplotlib.colorbar.Colorbar at 0x19f26af8dc0>"
      ]
     },
     "execution_count": 15,
     "metadata": {},
     "output_type": "execute_result"
    },
    {
     "data": {
      "image/png": "[encoded data removed]",
      "text/plain": [
       "<Figure size 432x288 with 2 Axes>"
      ]
     },
     "metadata": {
      "needs_background": "light"
     },
     "output_type": "display_data"
    }
   ],
   "source": [
    "agent_counts = np.zeros((model.grid.width, model.grid.height))\n",
    "for cell in model.grid.coord_iter():\n",
    "    cell_content, x, y = cell\n",
    "    agent_count = len(cell_content)\n",
    "    agent_counts[x][y] = agent_count\n",
    "plt.imshow(agent_counts, interpolation=\"nearest\")\n",
    "plt.colorbar()\n",
    "\n",
    "# If running from a text editor or IDE, remember you'll need the following:\n",
    "# plt.show()"
   ]
  },
  {
   "cell_type": "markdown",
   "id": "510d5ffd",
   "metadata": {},
   "source": [
    "Above and below we can see the photography of the model, we can also change the numbers and see the change in the perception"
   ]
  },
  {
   "cell_type": "code",
   "execution_count": 16,
   "id": "de2a0083",
   "metadata": {},
   "outputs": [
    {
     "data": {
      "text/plain": [
       "<matplotlib.colorbar.Colorbar at 0x19f267e34c0>"
      ]
     },
     "execution_count": 16,
     "metadata": {},
     "output_type": "execute_result"
    },
    {
     "data": {
      "image/png": "[encoded data removed]",
      "text/plain": [
       "<Figure size 432x288 with 2 Axes>"
      ]
     },
     "metadata": {
      "needs_background": "light"
     },
     "output_type": "display_data"
    }
   ],
   "source": [
    "agent_counts = np.zeros((model.grid.width, model.grid.height))\n",
    "for cell in model.grid.coord_iter():\n",
    "    cell_content, x, y = cell\n",
    "    agent_count = len(cell_content)\n",
    "    agent_counts[x][y] = agent_count\n",
    "plt.imshow(agent_counts, interpolation=\"nearest\")\n",
    "plt.colorbar()\n",
    "\n",
    "# If running from a text editor or IDE, remember you'll need the following:\n",
    "# plt.show()"
   ]
  },
  {
   "cell_type": "code",
   "execution_count": 17,
   "id": "bf550164",
   "metadata": {},
   "outputs": [],
   "source": [
    "#example for  anothe visualize \n",
    "def agent_portrayal(agent):\n",
    "    portrayal = {\n",
    "        \"Shape\": \"circle\",\n",
    "        \"Color\": \"red\",\n",
    "        \"Filled\": \"true\",\n",
    "        \"Layer\": 0,\n",
    "        \"r\": 0.5,\n",
    "    }\n",
    "    return portrayal"
   ]
  },
  {
   "cell_type": "code",
   "execution_count": 18,
   "id": "80bbf85d",
   "metadata": {},
   "outputs": [],
   "source": [
    "grid = mesa.visualization.CanvasGrid(agent_portrayal, 10, 10, 500, 500)\n"
   ]
  },
  {
   "cell_type": "code",
   "execution_count": 19,
   "id": "471c4f5e",
   "metadata": {},
   "outputs": [],
   "source": [
    "def agent_portrayal(agent):\n",
    "    portrayal = {\n",
    "        \"Shape\": \"circle\",\n",
    "        \"Filled\": \"true\",\n",
    "        \"Layer\": 0,\n",
    "        \"Color\": \"red\",\n",
    "        \"r\": 0.5,\n",
    "    }\n",
    "    return portrayal"
   ]
  },
  {
   "cell_type": "markdown",
   "id": "1fb1f2bf",
   "metadata": {},
   "source": [
    "the five using commit cells it was for more example "
   ]
  },
  {
   "cell_type": "code",
   "execution_count": 20,
   "id": "2e54c4b7",
   "metadata": {},
   "outputs": [],
   "source": [
    "#for more example1\n",
    "# #run server and show  visualize\n",
    "# #note change the port if used \n",
    "# #def agent_portrayal(agent):\n",
    "#     portrayal = {\n",
    "#         \"Shape\": \"circle\",\n",
    "#         \"Filled\": \"true\",\n",
    "#         \"Layer\": 0,\n",
    "#         \"Color\": \"red\",\n",
    "#         \"r\": 0.5,\n",
    "#     }\n",
    "#     return portrayal\n",
    "# grid = mesa.visualization.CanvasGrid(agent_portrayal, 10, 10, 500, 500)\n",
    "# server = mesa.visualization.ModularServer(\n",
    "#     SchellingModel, [grid], \" SchellingModel\", {\"N\": 100, \"width\": 10, \"height\": 10}\n",
    "# )\n",
    "# server.port = 7777  # The default\n",
    "# server.launch()\n"
   ]
  },
  {
   "cell_type": "code",
   "execution_count": 21,
   "id": "a753433b",
   "metadata": {},
   "outputs": [],
   "source": [
    "#pip install jupyterlab"
   ]
  },
  {
   "cell_type": "code",
   "execution_count": 22,
   "id": "8e4674e0",
   "metadata": {},
   "outputs": [],
   "source": [
    "#pip install tornado==4.5.3"
   ]
  },
  {
   "cell_type": "code",
   "execution_count": 23,
   "id": "f576eeed",
   "metadata": {},
   "outputs": [],
   "source": [
    "#for more example2\n",
    "# import mesa\n",
    "# import model\n",
    "# from model import SchellingModel\n",
    "\n",
    "\n",
    "# def get_happy_agents(SchellingModel):\n",
    "#     \"\"\"\n",
    "#     Display a text count of how many happy agents there are.\n",
    "#     \"\"\"\n",
    "#     return f\"Happy agents: {model.happy}\"\n",
    "\n",
    "\n",
    "# def schelling_draw(agent):\n",
    "#     \"\"\"\n",
    "#     Portrayal Method for canvas\n",
    "#     \"\"\"\n",
    "#     if agent is None:\n",
    "#         return\n",
    "#     portrayal = {\"Shape\": \"circle\", \"r\": 0.5, \"Filled\": \"true\", \"Layer\": 0}\n",
    "\n",
    "#     if agent.type == 0:\n",
    "#         portrayal[\"Color\"] = [\"#FF0000\", \"#FF9999\"]\n",
    "#         portrayal[\"stroke_color\"] = \"#00FF00\"\n",
    "#     else:\n",
    "#         portrayal[\"Color\"] = [\"#0000FF\", \"#9999FF\"]\n",
    "#         portrayal[\"stroke_color\"] = \"#000000\"\n",
    "#     return portrayal\n",
    "\n",
    "\n",
    "# canvas_element = mesa.visualization.CanvasGrid(schelling_draw, 20, 20, 500, 500)\n",
    "# happy_chart = mesa.visualization.ChartModule([{\"Label\": \"happy\", \"Color\": \"Black\"}])\n",
    "\n",
    "# model_params = {\n",
    "#     \"height\": 20,\n",
    "#     \"width\": 20,\n",
    "#     \"density\": mesa.visualization.Slider(\"Agent density\", 0.8, 0.1, 1.0, 0.1),\n",
    "#     \"minority_pc\": mesa.visualization.Slider(\"Fraction minority\", 0.2, 0.00, 1.0, 0.05),\n",
    "#     \"homophily\": mesa.visualization.Slider(\"Homophily\", 3, 0, 8, 1),\n",
    "# }\n",
    "\n",
    "# server = mesa.visualization.ModularServer(\n",
    "#     Schelling,\n",
    "#     [canvas_element, get_happy_agents, happy_chart],\n",
    "#     \"Schelling\",\n",
    "#     model_params,\n",
    "# )##"
   ]
  },
  {
   "cell_type": "code",
   "execution_count": 24,
   "id": "f822737d",
   "metadata": {},
   "outputs": [],
   "source": [
    "# import neuralnet\n",
    "# from neuralnet import model"
   ]
  },
  {
   "cell_type": "code",
   "execution_count": null,
   "id": "7d9f1acb",
   "metadata": {},
   "outputs": [],
   "source": [
    "Here we can try another way to visualize using a web server"
   ]
  },
  {
   "cell_type": "code",
   "execution_count": 25,
   "id": "9f87cf2e",
   "metadata": {},
   "outputs": [],
   "source": [
    "#example for visualize using server \n",
    "def agent_portrayal(agent):\n",
    "    portrayal = {\n",
    "           \"Shape\": \"circle\",\n",
    "           \"Color\": \"red\",\n",
    "           \"Filled\": \"true\",\n",
    "           \"Layer\": 0,\n",
    "           \"r\": 0.5,\n",
    "        }\n",
    "    return portraya"
   ]
  },
  {
   "cell_type": "code",
   "execution_count": 26,
   "id": "ba1e3ab2",
   "metadata": {},
   "outputs": [],
   "source": [
    "# from MoneyModel import *\n",
    "import mesa\n",
    "\n",
    "def agent_portrayal(agent):\n",
    "    portrayal = {\n",
    "        \"Shape\": \"circle\",\n",
    "        \"Filled\": \"true\",\n",
    "        \"Layer\": 0,\n",
    "        \"Color\": \"red\",\n",
    "        \"r\": 0.5,\n",
    "    }\n",
    "    return portrayal\n",
    "\n"
   ]
  },
  {
   "cell_type": "markdown",
   "id": "84285dd0",
   "metadata": {},
   "source": [
    "It may take a while to connect\n",
    "Note: The . should be turned off kernal from jupyter"
   ]
  },
  {
   "cell_type": "code",
   "execution_count": null,
   "id": "aa08a32b",
   "metadata": {},
   "outputs": [
    {
     "name": "stdout",
     "output_type": "stream",
     "text": [
      "Requirement already satisfied: nest_asyncio in c:\\users\\ahmed\\anaconda3\\lib\\site-packages (1.5.1)\n",
      "Interface starting at http://127.0.0.1:8526\n",
      "Socket opened!\n",
      "{\"type\":\"reset\"}\n"
     ]
    }
   ],
   "source": [
    "!pip install nest_asyncio\n",
    "import nest_asyncio\n",
    "nest_asyncio.apply() \n",
    "grid = mesa.visualization.CanvasGrid(agent_portrayal, 10, 10, 500, 500)\n",
    "server = mesa.visualization.ModularServer(\n",
    "    SchellingModel, [grid], \"SchellingModel\", {\"N\": 100, \"width\": 10, \"height\": 10}\n",
    ")\n",
    "server.port = 8526 # The default\n",
    "server.launch()"
   ]
  },
  {
   "cell_type": "code",
   "execution_count": null,
   "id": "21b06b25",
   "metadata": {},
   "outputs": [],
   "source": []
  }
 ],
 "metadata": {
  "kernelspec": {
   "display_name": "Python 3 (ipykernel)",
   "language": "python",
   "name": "python3"
  },
  "language_info": {
   "codemirror_mode": {
    "name": "ipython",
    "version": 3
   },
   "file_extension": ".py",
   "mimetype": "text/x-python",
   "name": "python",
   "nbconvert_exporter": "python",
   "pygments_lexer": "ipython3",
   "version": "3.9.7"
  }
 },
 "nbformat": 4,
 "nbformat_minor": 5
}
